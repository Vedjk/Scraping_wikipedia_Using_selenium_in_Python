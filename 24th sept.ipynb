{
 "cells": [
  {
   "cell_type": "code",
   "execution_count": 1,
   "id": "0334f84f-32ab-43af-8eae-d633beff6536",
   "metadata": {},
   "outputs": [
    {
     "name": "stdout",
     "output_type": "stream",
     "text": [
      "Requirement already satisfied: selenium in c:\\users\\vedjk\\onedrive\\desktop\\projects1\\scraping_wikipedia_using_selenium_in_python\\venv\\lib\\site-packages (4.12.0)\n",
      "Requirement already satisfied: urllib3[socks]<3,>=1.26 in c:\\users\\vedjk\\onedrive\\desktop\\projects1\\scraping_wikipedia_using_selenium_in_python\\venv\\lib\\site-packages (from selenium) (2.0.5)\n",
      "Requirement already satisfied: trio~=0.17 in c:\\users\\vedjk\\onedrive\\desktop\\projects1\\scraping_wikipedia_using_selenium_in_python\\venv\\lib\\site-packages (from selenium) (0.22.2)\n",
      "Requirement already satisfied: trio-websocket~=0.9 in c:\\users\\vedjk\\onedrive\\desktop\\projects1\\scraping_wikipedia_using_selenium_in_python\\venv\\lib\\site-packages (from selenium) (0.10.4)\n",
      "Requirement already satisfied: certifi>=2021.10.8 in c:\\users\\vedjk\\onedrive\\desktop\\projects1\\scraping_wikipedia_using_selenium_in_python\\venv\\lib\\site-packages (from selenium) (2023.7.22)\n",
      "Requirement already satisfied: attrs>=20.1.0 in c:\\users\\vedjk\\onedrive\\desktop\\projects1\\scraping_wikipedia_using_selenium_in_python\\venv\\lib\\site-packages (from trio~=0.17->selenium) (23.1.0)\n",
      "Requirement already satisfied: sortedcontainers in c:\\users\\vedjk\\onedrive\\desktop\\projects1\\scraping_wikipedia_using_selenium_in_python\\venv\\lib\\site-packages (from trio~=0.17->selenium) (2.4.0)\n",
      "Requirement already satisfied: idna in c:\\users\\vedjk\\onedrive\\desktop\\projects1\\scraping_wikipedia_using_selenium_in_python\\venv\\lib\\site-packages (from trio~=0.17->selenium) (3.4)\n",
      "Requirement already satisfied: outcome in c:\\users\\vedjk\\onedrive\\desktop\\projects1\\scraping_wikipedia_using_selenium_in_python\\venv\\lib\\site-packages (from trio~=0.17->selenium) (1.2.0)\n",
      "Requirement already satisfied: sniffio in c:\\users\\vedjk\\onedrive\\desktop\\projects1\\scraping_wikipedia_using_selenium_in_python\\venv\\lib\\site-packages (from trio~=0.17->selenium) (1.3.0)\n",
      "Requirement already satisfied: cffi>=1.14 in c:\\users\\vedjk\\onedrive\\desktop\\projects1\\scraping_wikipedia_using_selenium_in_python\\venv\\lib\\site-packages (from trio~=0.17->selenium) (1.15.1)\n",
      "Requirement already satisfied: exceptiongroup in c:\\users\\vedjk\\onedrive\\desktop\\projects1\\scraping_wikipedia_using_selenium_in_python\\venv\\lib\\site-packages (from trio-websocket~=0.9->selenium) (1.1.3)\n",
      "Requirement already satisfied: wsproto>=0.14 in c:\\users\\vedjk\\onedrive\\desktop\\projects1\\scraping_wikipedia_using_selenium_in_python\\venv\\lib\\site-packages (from trio-websocket~=0.9->selenium) (1.2.0)\n",
      "Requirement already satisfied: pysocks!=1.5.7,<2.0,>=1.5.6 in c:\\users\\vedjk\\onedrive\\desktop\\projects1\\scraping_wikipedia_using_selenium_in_python\\venv\\lib\\site-packages (from urllib3[socks]<3,>=1.26->selenium) (1.7.1)\n",
      "Requirement already satisfied: pycparser in c:\\users\\vedjk\\onedrive\\desktop\\projects1\\scraping_wikipedia_using_selenium_in_python\\venv\\lib\\site-packages (from cffi>=1.14->trio~=0.17->selenium) (2.21)\n",
      "Requirement already satisfied: h11<1,>=0.9.0 in c:\\users\\vedjk\\onedrive\\desktop\\projects1\\scraping_wikipedia_using_selenium_in_python\\venv\\lib\\site-packages (from wsproto>=0.14->trio-websocket~=0.9->selenium) (0.14.0)\n",
      "Note: you may need to restart the kernel to use updated packages.\n"
     ]
    }
   ],
   "source": [
    "pip install selenium"
   ]
  },
  {
   "cell_type": "code",
   "execution_count": 4,
   "id": "b3589e08-42ad-4095-a0f6-a9668cb6a88f",
   "metadata": {},
   "outputs": [],
   "source": [
    "from selenium import webdriver\n",
    "from selenium.webdriver.chrome.options import Options\n",
    "from selenium.webdriver.common.by import By\n",
    "from selenium.webdriver.chrome.service import Service\n",
    "from webdriver_manager.chrome import ChromeDriverManager\n",
    "\n",
    "#options\n",
    "chrome_options = Options()\n",
    "chrome_options.add_argument('--headless')\n",
    "chrome_options.add_argument('--no-sandbox')\n",
    "chrome_options.add_argument('--disable-dev-shm-usage')\n",
    "\n",
    "wd=webdriver.Chrome(service=Service(ChromeDriverManager().install()),options=chrome_options)\n"
   ]
  },
  {
   "cell_type": "code",
   "execution_count": null,
   "id": "d73f9cc4-979c-44d7-b2a8-9deaaadd52f3",
   "metadata": {},
   "outputs": [],
   "source": [
    "pip install webdriver_manager"
   ]
  },
  {
   "cell_type": "code",
   "execution_count": 18,
   "id": "515b35c2-e2a1-49fb-8590-ea1b0501866b",
   "metadata": {},
   "outputs": [],
   "source": [
    "wd.get('https://www.wikipedia.org/')\n",
    "       "
   ]
  },
  {
   "cell_type": "code",
   "execution_count": 19,
   "id": "01205bbc-749e-4774-9352-cd2b52a44f0a",
   "metadata": {},
   "outputs": [],
   "source": [
    "#fetching element by ID\n",
    "input_element= wd.find_element(by=By.ID, value=\"searchInput\")\n",
    "\n",
    "input_element.send_keys('ASD')\n",
    "\n",
    "search = wd.find_element(by=By.CLASS_NAME,value=\"pure-button\")\n",
    "\n",
    "wd.execute_script(\"arguments[0].click();\",search)"
   ]
  },
  {
   "cell_type": "code",
   "execution_count": 20,
   "id": "626d255c-4134-45f8-981f-4ebf8f4067a1",
   "metadata": {},
   "outputs": [],
   "source": [
    "#fetching the link through link text\n",
    "link_element= wd.find_element(By.LINK_TEXT, \"Adaptive software development\")\n",
    "\n",
    "wd.execute_script(\"arguments[0].click();\",link_element)"
   ]
  },
  {
   "cell_type": "code",
   "execution_count": 22,
   "id": "31e131d5-4ed5-4579-b3b1-f60d17b3f915",
   "metadata": {},
   "outputs": [],
   "source": [
    "#Fetching all elements with<p> tags\n",
    "p_tags= wd.find_elements(by=By.TAG_NAME, value='p')\n",
    "\n",
    "# extracting the text from the fetched elements\n",
    "text_lines=''\n",
    "for p_tag in p_tags:\n",
    "    text_lines +=p_tag.text"
   ]
  },
  {
   "cell_type": "code",
   "execution_count": 24,
   "id": "6c264e54-4ca1-4b15-861f-7c7d82efc093",
   "metadata": {},
   "outputs": [],
   "source": [
    "elems= wd.find_elements(by=By.CSS_SELECTOR, value='p>a')\n",
    "\n",
    "link_dict = {}\n",
    "for elem in elems:\n",
    "    link_dict[elem.text] = elem.get_attribute('href')\n",
    "    "
   ]
  },
  {
   "cell_type": "code",
   "execution_count": null,
   "id": "a46297c2-eea5-49e1-ab0f-db0f3996f4a2",
   "metadata": {},
   "outputs": [],
   "source": []
  }
 ],
 "metadata": {
  "kernelspec": {
   "display_name": "Python 3 (ipykernel)",
   "language": "python",
   "name": "python3"
  },
  "language_info": {
   "codemirror_mode": {
    "name": "ipython",
    "version": 3
   },
   "file_extension": ".py",
   "mimetype": "text/x-python",
   "name": "python",
   "nbconvert_exporter": "python",
   "pygments_lexer": "ipython3",
   "version": "3.11.5"
  }
 },
 "nbformat": 4,
 "nbformat_minor": 5
}
